{
 "cells": [
  {
   "cell_type": "markdown",
   "id": "b775a4db",
   "metadata": {},
   "source": [
    "# The anti-example\n",
    "\n",
    "A non-reusable pattern with the following problem:\n",
    "\n",
    " * The button description text is repeated twice (once for initialization at \"Clicked 0 times\" and once in the event handler f\"Clicked {clicks} times\")\n",
    " * An event handler is attached, which we need to detach if we do not want to leak resources. But we have no well-defined life cycle.\n",
    " * There is no good place/namespace to store the clicks variables. Did the global trigger you?\n",
    " * This code is in no way re-useable / composable."
   ]
  },
  {
   "cell_type": "code",
   "execution_count": null,
   "id": "07612fd4",
   "metadata": {},
   "outputs": [],
   "source": [
    "import ipywidgets as widgets\n",
    "\n",
    "clicks = 0\n",
    "def on_click(button):\n",
    "    global clicks\n",
    "    clicks += 1\n",
    "    button.description = f\"Clicked {clicks} times\"\n",
    "button = widgets.Button(description=\"Clicked 0 times\")\n",
    "button.on_click(on_click)\n",
    "display(button)"
   ]
  },
  {
   "cell_type": "markdown",
   "id": "50a81948",
   "metadata": {},
   "source": [
    "# Using React-IPywidgets\n",
    "\n",
    " * The description f-string is only at 1 place\n",
    " * Event handler will be removed\n",
    " * State is local, not mutable by external code\n",
    " * We can reuse this Component\n"
   ]
  },
  {
   "cell_type": "code",
   "execution_count": null,
   "id": "c2d9d28d",
   "metadata": {},
   "outputs": [],
   "source": [
    "import react_ipywidgets as react\n",
    "import react_ipywidgets.ipywidgets as w\n",
    "\n",
    "@react.component\n",
    "def ButtonClick():\n",
    "    # first render, this return 0, after that, the last argument\n",
    "    # of set_clicks\n",
    "    clicks, set_clicks = react.use_state(0)\n",
    "    def my_click_handler():\n",
    "        # trigger a new render with a new value for clicks\n",
    "        set_clicks(clicks+1)\n",
    "    button = w.Button(description=f\"Clicked {clicks} times\",\n",
    "                      on_click=my_click_handler)\n",
    "    return button\n",
    "ButtonClick()"
   ]
  },
  {
   "cell_type": "markdown",
   "id": "36ecb76f",
   "metadata": {},
   "source": [
    "# Using ipyvuetify"
   ]
  },
  {
   "cell_type": "code",
   "execution_count": null,
   "id": "95b7d6c2",
   "metadata": {},
   "outputs": [],
   "source": [
    "import react_ipywidgets as react\n",
    "import react_ipywidgets.ipyvuetify as vr\n",
    "\n",
    "\n",
    "@react.component\n",
    "def ButtonClick():\n",
    "    # first render, this return 0, after that, the last argument\n",
    "    # of set_clicks\n",
    "    clicks, set_clicks = react.use_state(0)\n",
    "    def my_click_handler(*ignore_args):\n",
    "        # trigger a new render with a new value for clicks\n",
    "        set_clicks(clicks+1)\n",
    "    button = vr.Btn(children=[f\"Clicked {clicks} times\"])\n",
    "    vr.use_event(button, 'click', my_click_handler)\n",
    "    return button\n",
    "ButtonClick()"
   ]
  },
  {
   "cell_type": "code",
   "execution_count": null,
   "id": "7c851d6e",
   "metadata": {},
   "outputs": [],
   "source": []
  }
 ],
 "metadata": {
  "kernelspec": {
   "display_name": "Python 3 (ipykernel)",
   "language": "python",
   "name": "python3"
  },
  "language_info": {
   "codemirror_mode": {
    "name": "ipython",
    "version": 3
   },
   "file_extension": ".py",
   "mimetype": "text/x-python",
   "name": "python",
   "nbconvert_exporter": "python",
   "pygments_lexer": "ipython3",
   "version": "3.9.10"
  }
 },
 "nbformat": 4,
 "nbformat_minor": 5
}
